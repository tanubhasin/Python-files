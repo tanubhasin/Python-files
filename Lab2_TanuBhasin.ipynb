{
  "cells": [
    {
      "cell_type": "markdown",
      "metadata": {
        "id": "xHe-28F2_M9s"
      },
      "source": [
        "# Welcome to IS 6010 Lab #2: Data Analysis with Pandas"
      ]
    },
    {
      "cell_type": "markdown",
      "metadata": {
        "id": "A4y0gSw3_M9z"
      },
      "source": [
        "In this lab exercise, we will continue working with the  'movies_cleaned.csv' dataset that wass created in the tutorial. You are asked to answer questions based on what we have just learned in the tutorial. Please write your code in the cell provided after each question."
      ]
    },
    {
      "cell_type": "markdown",
      "source": [
        ""
      ],
      "metadata": {
        "id": "RgIg45okxEL9"
      }
    },
    {
      "cell_type": "markdown",
      "metadata": {
        "id": "-PUuV49D_M95"
      },
      "source": [
        "# PART 2: Let's practice\n",
        "\n",
        "In general, unless requested do not use head() or tail(). If neither of these are requested then show the full output that is generated (can be truncated, that is okay).\n",
        "\n",
        "In each task, there are some Hints and a basic structure of the code with blanks is given to guide you. sometimes code can be written in multiple ways, so you do not have to follow the structure."
      ]
    },
    {
      "cell_type": "markdown",
      "source": [
        "## TASK 0. Housekeeping\n",
        "\n",
        "### TASK 0a. import pandas as pd"
      ],
      "metadata": {
        "id": "VeMGzIIRTQCe"
      }
    },
    {
      "cell_type": "code",
      "source": [
        "# write your code here\n",
        "import pandas as pd"
      ],
      "metadata": {
        "id": "W1w_QQWBTaXJ"
      },
      "execution_count": 1,
      "outputs": []
    },
    {
      "cell_type": "markdown",
      "source": [
        "### TASK 0b. Set up code to read from Google Drive\n",
        "\n",
        "Since we will be reading in files from our Google Drive, we need to copy paste the code from Step 3a from the IntrotoPandas.ipynb file. \n",
        "I have done it for you."
      ],
      "metadata": {
        "id": "j_Vf4_taSia9"
      }
    },
    {
      "cell_type": "code",
      "source": [
        "from google.colab import drive\n",
        "drive.mount('/content/drive')\n",
        "\n",
        "# type the following command to change to the Colab Notebooks folder \n",
        "%cd /content/drive/My Drive/Colab Notebooks/\n"
      ],
      "metadata": {
        "colab": {
          "base_uri": "https://localhost:8080/"
        },
        "id": "L7Jlr3v-S5y8",
        "outputId": "e00359d4-7591-455d-831c-31b14f1d99ad"
      },
      "execution_count": 2,
      "outputs": [
        {
          "output_type": "stream",
          "name": "stdout",
          "text": [
            "Mounted at /content/drive\n",
            "/content/drive/My Drive/Colab Notebooks\n"
          ]
        }
      ]
    },
    {
      "cell_type": "code",
      "source": [
        "!ls"
      ],
      "metadata": {
        "colab": {
          "base_uri": "https://localhost:8080/"
        },
        "id": "0XmAmFLyTwLE",
        "outputId": "9a2f28f3-24fe-4f28-f2c9-edc3df16d08c"
      },
      "execution_count": 3,
      "outputs": [
        {
          "output_type": "stream",
          "name": "stdout",
          "text": [
            "IntroToMarkdown.ipynb  Lab1-TanuBhasin.ipynb  Untitled\n",
            "IntrotoPandas.ipynb    Lab2-TanuBhasin.ipynb  Untitled0.ipynb\n",
            "IntroToPython-1.ipynb  movies_cleaned.csv     Untitled1.ipynb\n",
            "IntroToPython-2.ipynb  movies.csv\t      Untitled2.ipynb\n"
          ]
        }
      ]
    },
    {
      "cell_type": "markdown",
      "metadata": {
        "id": "S5WP4VEG_NAP"
      },
      "source": [
        "### TASK 0c. Read the data 'movies_cleaned.csv' \n",
        "\n",
        "This file was created and saved in your Google Drives' Colab Notebook folder in step 14 of the IntrotoPandas.ipynb file. \n",
        "\n",
        "We will read this file in using `pd.read_csv()`. after readng it in, specify that the 'Title' column will be used as the index column.\n",
        "\n",
        "This task is the same as step 15.\n",
        "\n",
        "Display the first 6 rows of the new DataFrame, call it `df`."
      ]
    },
    {
      "cell_type": "code",
      "execution_count": 4,
      "metadata": {
        "scrolled": false,
        "id": "WE_Q3-ap_NAQ",
        "colab": {
          "base_uri": "https://localhost:8080/",
          "height": 266
        },
        "outputId": "66bbaed1-933a-40c5-9c9c-074a358f9fc1"
      },
      "outputs": [
        {
          "output_type": "execute_result",
          "data": {
            "text/plain": [
              "                              Rank       Studio  Gross(M)  Year\n",
              "Title                                                          \n",
              "Avengers: Endgame                1  Buena Vista    2796.3  2019\n",
              "Avatar                           2          Fox    2789.7  2009\n",
              "Titanic                          3    Paramount    2187.5  1997\n",
              "Star Wars: The Force Awakens     4  Buena Vista    2068.2  2015\n",
              "Avengers: Infinity War           5  Buena Vista    2048.4  2018\n",
              "Jurassic World                   6    Universal    1671.7  2015"
            ],
            "text/html": [
              "\n",
              "  <div id=\"df-70b43c05-058e-4ef1-938e-7350d7cc199a\">\n",
              "    <div class=\"colab-df-container\">\n",
              "      <div>\n",
              "<style scoped>\n",
              "    .dataframe tbody tr th:only-of-type {\n",
              "        vertical-align: middle;\n",
              "    }\n",
              "\n",
              "    .dataframe tbody tr th {\n",
              "        vertical-align: top;\n",
              "    }\n",
              "\n",
              "    .dataframe thead th {\n",
              "        text-align: right;\n",
              "    }\n",
              "</style>\n",
              "<table border=\"1\" class=\"dataframe\">\n",
              "  <thead>\n",
              "    <tr style=\"text-align: right;\">\n",
              "      <th></th>\n",
              "      <th>Rank</th>\n",
              "      <th>Studio</th>\n",
              "      <th>Gross(M)</th>\n",
              "      <th>Year</th>\n",
              "    </tr>\n",
              "    <tr>\n",
              "      <th>Title</th>\n",
              "      <th></th>\n",
              "      <th></th>\n",
              "      <th></th>\n",
              "      <th></th>\n",
              "    </tr>\n",
              "  </thead>\n",
              "  <tbody>\n",
              "    <tr>\n",
              "      <th>Avengers: Endgame</th>\n",
              "      <td>1</td>\n",
              "      <td>Buena Vista</td>\n",
              "      <td>2796.3</td>\n",
              "      <td>2019</td>\n",
              "    </tr>\n",
              "    <tr>\n",
              "      <th>Avatar</th>\n",
              "      <td>2</td>\n",
              "      <td>Fox</td>\n",
              "      <td>2789.7</td>\n",
              "      <td>2009</td>\n",
              "    </tr>\n",
              "    <tr>\n",
              "      <th>Titanic</th>\n",
              "      <td>3</td>\n",
              "      <td>Paramount</td>\n",
              "      <td>2187.5</td>\n",
              "      <td>1997</td>\n",
              "    </tr>\n",
              "    <tr>\n",
              "      <th>Star Wars: The Force Awakens</th>\n",
              "      <td>4</td>\n",
              "      <td>Buena Vista</td>\n",
              "      <td>2068.2</td>\n",
              "      <td>2015</td>\n",
              "    </tr>\n",
              "    <tr>\n",
              "      <th>Avengers: Infinity War</th>\n",
              "      <td>5</td>\n",
              "      <td>Buena Vista</td>\n",
              "      <td>2048.4</td>\n",
              "      <td>2018</td>\n",
              "    </tr>\n",
              "    <tr>\n",
              "      <th>Jurassic World</th>\n",
              "      <td>6</td>\n",
              "      <td>Universal</td>\n",
              "      <td>1671.7</td>\n",
              "      <td>2015</td>\n",
              "    </tr>\n",
              "  </tbody>\n",
              "</table>\n",
              "</div>\n",
              "      <button class=\"colab-df-convert\" onclick=\"convertToInteractive('df-70b43c05-058e-4ef1-938e-7350d7cc199a')\"\n",
              "              title=\"Convert this dataframe to an interactive table.\"\n",
              "              style=\"display:none;\">\n",
              "        \n",
              "  <svg xmlns=\"http://www.w3.org/2000/svg\" height=\"24px\"viewBox=\"0 0 24 24\"\n",
              "       width=\"24px\">\n",
              "    <path d=\"M0 0h24v24H0V0z\" fill=\"none\"/>\n",
              "    <path d=\"M18.56 5.44l.94 2.06.94-2.06 2.06-.94-2.06-.94-.94-2.06-.94 2.06-2.06.94zm-11 1L8.5 8.5l.94-2.06 2.06-.94-2.06-.94L8.5 2.5l-.94 2.06-2.06.94zm10 10l.94 2.06.94-2.06 2.06-.94-2.06-.94-.94-2.06-.94 2.06-2.06.94z\"/><path d=\"M17.41 7.96l-1.37-1.37c-.4-.4-.92-.59-1.43-.59-.52 0-1.04.2-1.43.59L10.3 9.45l-7.72 7.72c-.78.78-.78 2.05 0 2.83L4 21.41c.39.39.9.59 1.41.59.51 0 1.02-.2 1.41-.59l7.78-7.78 2.81-2.81c.8-.78.8-2.07 0-2.86zM5.41 20L4 18.59l7.72-7.72 1.47 1.35L5.41 20z\"/>\n",
              "  </svg>\n",
              "      </button>\n",
              "      \n",
              "  <style>\n",
              "    .colab-df-container {\n",
              "      display:flex;\n",
              "      flex-wrap:wrap;\n",
              "      gap: 12px;\n",
              "    }\n",
              "\n",
              "    .colab-df-convert {\n",
              "      background-color: #E8F0FE;\n",
              "      border: none;\n",
              "      border-radius: 50%;\n",
              "      cursor: pointer;\n",
              "      display: none;\n",
              "      fill: #1967D2;\n",
              "      height: 32px;\n",
              "      padding: 0 0 0 0;\n",
              "      width: 32px;\n",
              "    }\n",
              "\n",
              "    .colab-df-convert:hover {\n",
              "      background-color: #E2EBFA;\n",
              "      box-shadow: 0px 1px 2px rgba(60, 64, 67, 0.3), 0px 1px 3px 1px rgba(60, 64, 67, 0.15);\n",
              "      fill: #174EA6;\n",
              "    }\n",
              "\n",
              "    [theme=dark] .colab-df-convert {\n",
              "      background-color: #3B4455;\n",
              "      fill: #D2E3FC;\n",
              "    }\n",
              "\n",
              "    [theme=dark] .colab-df-convert:hover {\n",
              "      background-color: #434B5C;\n",
              "      box-shadow: 0px 1px 3px 1px rgba(0, 0, 0, 0.15);\n",
              "      filter: drop-shadow(0px 1px 2px rgba(0, 0, 0, 0.3));\n",
              "      fill: #FFFFFF;\n",
              "    }\n",
              "  </style>\n",
              "\n",
              "      <script>\n",
              "        const buttonEl =\n",
              "          document.querySelector('#df-70b43c05-058e-4ef1-938e-7350d7cc199a button.colab-df-convert');\n",
              "        buttonEl.style.display =\n",
              "          google.colab.kernel.accessAllowed ? 'block' : 'none';\n",
              "\n",
              "        async function convertToInteractive(key) {\n",
              "          const element = document.querySelector('#df-70b43c05-058e-4ef1-938e-7350d7cc199a');\n",
              "          const dataTable =\n",
              "            await google.colab.kernel.invokeFunction('convertToInteractive',\n",
              "                                                     [key], {});\n",
              "          if (!dataTable) return;\n",
              "\n",
              "          const docLinkHtml = 'Like what you see? Visit the ' +\n",
              "            '<a target=\"_blank\" href=https://colab.research.google.com/notebooks/data_table.ipynb>data table notebook</a>'\n",
              "            + ' to learn more about interactive tables.';\n",
              "          element.innerHTML = '';\n",
              "          dataTable['output_type'] = 'display_data';\n",
              "          await google.colab.output.renderOutput(dataTable, element);\n",
              "          const docLink = document.createElement('div');\n",
              "          docLink.innerHTML = docLinkHtml;\n",
              "          element.appendChild(docLink);\n",
              "        }\n",
              "      </script>\n",
              "    </div>\n",
              "  </div>\n",
              "  "
            ]
          },
          "metadata": {},
          "execution_count": 4
        }
      ],
      "source": [
        "# write your code here\n",
        "df = pd.read_csv('movies_cleaned.csv')\n",
        "\n",
        "df = df.set_index('Title')\n",
        "\n",
        "df.head(6)\n"
      ]
    },
    {
      "cell_type": "markdown",
      "source": [
        "## TASK 1. Display a random fraction or 0.01 rows\n",
        "\n",
        "There is a different keyword (optional) parameter in DataFrame's `sample()` method called `frac`. set its value to 0.01.\n",
        "\n",
        "Your output should contain 8 rows.\n",
        "\n",
        "`df.________(______)`"
      ],
      "metadata": {
        "id": "gg4i8oPc_NBG"
      }
    },
    {
      "cell_type": "code",
      "source": [
        "# write your code here\n",
        "# df.sample?\n",
        "df.sample(frac=0.01) #What is frac ? fraction of the total dataset , we want a random sample of a dataset"
      ],
      "metadata": {
        "id": "pl6zmQFtUH0l",
        "colab": {
          "base_uri": "https://localhost:8080/",
          "height": 328
        },
        "outputId": "e678a68b-141e-4084-d365-d7e9cf8ac787"
      },
      "execution_count": 5,
      "outputs": [
        {
          "output_type": "execute_result",
          "data": {
            "text/plain": [
              "                                     Rank       Studio  Gross(M)  Year\n",
              "Title                                                                 \n",
              "Jack Reacher                          696    Paramount     218.3  2012\n",
              "The Curious Case of Benjamin Button   402    Paramount     333.9  2008\n",
              "Puss in Boots                         169   Dreamworks     555.0  2011\n",
              "The Hunchback of Notre Dame           417  Buena Vista     325.3  1996\n",
              "Crouching Tiger, Hidden Dragon        724         Sony     213.5  2000\n",
              "21 Jump Street                        777         Sony     201.6  2012\n",
              "Finding Nemo                           49  Buena Vista     940.3  2003\n",
              "Divergent                             495    Lionsgate     288.9  2014"
            ],
            "text/html": [
              "\n",
              "  <div id=\"df-0446817b-fae9-4a7b-8801-c4e1d1d0b42a\">\n",
              "    <div class=\"colab-df-container\">\n",
              "      <div>\n",
              "<style scoped>\n",
              "    .dataframe tbody tr th:only-of-type {\n",
              "        vertical-align: middle;\n",
              "    }\n",
              "\n",
              "    .dataframe tbody tr th {\n",
              "        vertical-align: top;\n",
              "    }\n",
              "\n",
              "    .dataframe thead th {\n",
              "        text-align: right;\n",
              "    }\n",
              "</style>\n",
              "<table border=\"1\" class=\"dataframe\">\n",
              "  <thead>\n",
              "    <tr style=\"text-align: right;\">\n",
              "      <th></th>\n",
              "      <th>Rank</th>\n",
              "      <th>Studio</th>\n",
              "      <th>Gross(M)</th>\n",
              "      <th>Year</th>\n",
              "    </tr>\n",
              "    <tr>\n",
              "      <th>Title</th>\n",
              "      <th></th>\n",
              "      <th></th>\n",
              "      <th></th>\n",
              "      <th></th>\n",
              "    </tr>\n",
              "  </thead>\n",
              "  <tbody>\n",
              "    <tr>\n",
              "      <th>Jack Reacher</th>\n",
              "      <td>696</td>\n",
              "      <td>Paramount</td>\n",
              "      <td>218.3</td>\n",
              "      <td>2012</td>\n",
              "    </tr>\n",
              "    <tr>\n",
              "      <th>The Curious Case of Benjamin Button</th>\n",
              "      <td>402</td>\n",
              "      <td>Paramount</td>\n",
              "      <td>333.9</td>\n",
              "      <td>2008</td>\n",
              "    </tr>\n",
              "    <tr>\n",
              "      <th>Puss in Boots</th>\n",
              "      <td>169</td>\n",
              "      <td>Dreamworks</td>\n",
              "      <td>555.0</td>\n",
              "      <td>2011</td>\n",
              "    </tr>\n",
              "    <tr>\n",
              "      <th>The Hunchback of Notre Dame</th>\n",
              "      <td>417</td>\n",
              "      <td>Buena Vista</td>\n",
              "      <td>325.3</td>\n",
              "      <td>1996</td>\n",
              "    </tr>\n",
              "    <tr>\n",
              "      <th>Crouching Tiger, Hidden Dragon</th>\n",
              "      <td>724</td>\n",
              "      <td>Sony</td>\n",
              "      <td>213.5</td>\n",
              "      <td>2000</td>\n",
              "    </tr>\n",
              "    <tr>\n",
              "      <th>21 Jump Street</th>\n",
              "      <td>777</td>\n",
              "      <td>Sony</td>\n",
              "      <td>201.6</td>\n",
              "      <td>2012</td>\n",
              "    </tr>\n",
              "    <tr>\n",
              "      <th>Finding Nemo</th>\n",
              "      <td>49</td>\n",
              "      <td>Buena Vista</td>\n",
              "      <td>940.3</td>\n",
              "      <td>2003</td>\n",
              "    </tr>\n",
              "    <tr>\n",
              "      <th>Divergent</th>\n",
              "      <td>495</td>\n",
              "      <td>Lionsgate</td>\n",
              "      <td>288.9</td>\n",
              "      <td>2014</td>\n",
              "    </tr>\n",
              "  </tbody>\n",
              "</table>\n",
              "</div>\n",
              "      <button class=\"colab-df-convert\" onclick=\"convertToInteractive('df-0446817b-fae9-4a7b-8801-c4e1d1d0b42a')\"\n",
              "              title=\"Convert this dataframe to an interactive table.\"\n",
              "              style=\"display:none;\">\n",
              "        \n",
              "  <svg xmlns=\"http://www.w3.org/2000/svg\" height=\"24px\"viewBox=\"0 0 24 24\"\n",
              "       width=\"24px\">\n",
              "    <path d=\"M0 0h24v24H0V0z\" fill=\"none\"/>\n",
              "    <path d=\"M18.56 5.44l.94 2.06.94-2.06 2.06-.94-2.06-.94-.94-2.06-.94 2.06-2.06.94zm-11 1L8.5 8.5l.94-2.06 2.06-.94-2.06-.94L8.5 2.5l-.94 2.06-2.06.94zm10 10l.94 2.06.94-2.06 2.06-.94-2.06-.94-.94-2.06-.94 2.06-2.06.94z\"/><path d=\"M17.41 7.96l-1.37-1.37c-.4-.4-.92-.59-1.43-.59-.52 0-1.04.2-1.43.59L10.3 9.45l-7.72 7.72c-.78.78-.78 2.05 0 2.83L4 21.41c.39.39.9.59 1.41.59.51 0 1.02-.2 1.41-.59l7.78-7.78 2.81-2.81c.8-.78.8-2.07 0-2.86zM5.41 20L4 18.59l7.72-7.72 1.47 1.35L5.41 20z\"/>\n",
              "  </svg>\n",
              "      </button>\n",
              "      \n",
              "  <style>\n",
              "    .colab-df-container {\n",
              "      display:flex;\n",
              "      flex-wrap:wrap;\n",
              "      gap: 12px;\n",
              "    }\n",
              "\n",
              "    .colab-df-convert {\n",
              "      background-color: #E8F0FE;\n",
              "      border: none;\n",
              "      border-radius: 50%;\n",
              "      cursor: pointer;\n",
              "      display: none;\n",
              "      fill: #1967D2;\n",
              "      height: 32px;\n",
              "      padding: 0 0 0 0;\n",
              "      width: 32px;\n",
              "    }\n",
              "\n",
              "    .colab-df-convert:hover {\n",
              "      background-color: #E2EBFA;\n",
              "      box-shadow: 0px 1px 2px rgba(60, 64, 67, 0.3), 0px 1px 3px 1px rgba(60, 64, 67, 0.15);\n",
              "      fill: #174EA6;\n",
              "    }\n",
              "\n",
              "    [theme=dark] .colab-df-convert {\n",
              "      background-color: #3B4455;\n",
              "      fill: #D2E3FC;\n",
              "    }\n",
              "\n",
              "    [theme=dark] .colab-df-convert:hover {\n",
              "      background-color: #434B5C;\n",
              "      box-shadow: 0px 1px 3px 1px rgba(0, 0, 0, 0.15);\n",
              "      filter: drop-shadow(0px 1px 2px rgba(0, 0, 0, 0.3));\n",
              "      fill: #FFFFFF;\n",
              "    }\n",
              "  </style>\n",
              "\n",
              "      <script>\n",
              "        const buttonEl =\n",
              "          document.querySelector('#df-0446817b-fae9-4a7b-8801-c4e1d1d0b42a button.colab-df-convert');\n",
              "        buttonEl.style.display =\n",
              "          google.colab.kernel.accessAllowed ? 'block' : 'none';\n",
              "\n",
              "        async function convertToInteractive(key) {\n",
              "          const element = document.querySelector('#df-0446817b-fae9-4a7b-8801-c4e1d1d0b42a');\n",
              "          const dataTable =\n",
              "            await google.colab.kernel.invokeFunction('convertToInteractive',\n",
              "                                                     [key], {});\n",
              "          if (!dataTable) return;\n",
              "\n",
              "          const docLinkHtml = 'Like what you see? Visit the ' +\n",
              "            '<a target=\"_blank\" href=https://colab.research.google.com/notebooks/data_table.ipynb>data table notebook</a>'\n",
              "            + ' to learn more about interactive tables.';\n",
              "          element.innerHTML = '';\n",
              "          dataTable['output_type'] = 'display_data';\n",
              "          await google.colab.output.renderOutput(dataTable, element);\n",
              "          const docLink = document.createElement('div');\n",
              "          docLink.innerHTML = docLinkHtml;\n",
              "          element.appendChild(docLink);\n",
              "        }\n",
              "      </script>\n",
              "    </div>\n",
              "  </div>\n",
              "  "
            ]
          },
          "metadata": {},
          "execution_count": 5
        }
      ]
    },
    {
      "cell_type": "markdown",
      "source": [
        "## TASK 2. Sort the DataFrame df by ascending order of 'Year' and descending order of 'Gross(M').\n",
        "\n",
        "HINT: use a sort method of the DataFrame and set its ascending parameter value correctly. Since we are sorting by two columns, you will need to use a list to specify the column, and similarly you need a list for the values for parameter ascending.\n",
        "\n",
        "`df.________( [_____,_____], ___________[__,___] )`"
      ],
      "metadata": {
        "id": "rIFIY3SoUPZF"
      }
    },
    {
      "cell_type": "code",
      "source": [
        "# write your code here\n",
        "df.sort_values(['Year','Gross(M)'], ascending = [True,False])"
      ],
      "metadata": {
        "id": "f7r7nyWdaAkL",
        "colab": {
          "base_uri": "https://localhost:8080/",
          "height": 450
        },
        "outputId": "ce841b8b-4ded-43ed-abe6-b8228545c75a"
      },
      "execution_count": 6,
      "outputs": [
        {
          "output_type": "execute_result",
          "data": {
            "text/plain": [
              "                            Rank       Studio  Gross(M)  Year\n",
              "Title                                                        \n",
              "Gone with the Wind           288          MGM     402.4  1939\n",
              "Bambi                        540          RKO     267.4  1942\n",
              "101 Dalmatians               708  Buena Vista     215.9  1961\n",
              "The Jungle Book              755  Buena Vista     205.8  1967\n",
              "The Godfather                604    Paramount     245.1  1972\n",
              "...                          ...          ...       ...   ...\n",
              "Us                           572    Universal     254.7  2019\n",
              "Glass                        591    Universal     247.0  2019\n",
              "Dark Phoenix                 603          Fox     245.1  2019\n",
              "The Secret Life of Pets 2    670    Universal     225.9  2019\n",
              "Men in Black International   686         Sony     220.8  2019\n",
              "\n",
              "[782 rows x 4 columns]"
            ],
            "text/html": [
              "\n",
              "  <div id=\"df-bfdd0d48-0034-4da1-be76-1be276b674cb\">\n",
              "    <div class=\"colab-df-container\">\n",
              "      <div>\n",
              "<style scoped>\n",
              "    .dataframe tbody tr th:only-of-type {\n",
              "        vertical-align: middle;\n",
              "    }\n",
              "\n",
              "    .dataframe tbody tr th {\n",
              "        vertical-align: top;\n",
              "    }\n",
              "\n",
              "    .dataframe thead th {\n",
              "        text-align: right;\n",
              "    }\n",
              "</style>\n",
              "<table border=\"1\" class=\"dataframe\">\n",
              "  <thead>\n",
              "    <tr style=\"text-align: right;\">\n",
              "      <th></th>\n",
              "      <th>Rank</th>\n",
              "      <th>Studio</th>\n",
              "      <th>Gross(M)</th>\n",
              "      <th>Year</th>\n",
              "    </tr>\n",
              "    <tr>\n",
              "      <th>Title</th>\n",
              "      <th></th>\n",
              "      <th></th>\n",
              "      <th></th>\n",
              "      <th></th>\n",
              "    </tr>\n",
              "  </thead>\n",
              "  <tbody>\n",
              "    <tr>\n",
              "      <th>Gone with the Wind</th>\n",
              "      <td>288</td>\n",
              "      <td>MGM</td>\n",
              "      <td>402.4</td>\n",
              "      <td>1939</td>\n",
              "    </tr>\n",
              "    <tr>\n",
              "      <th>Bambi</th>\n",
              "      <td>540</td>\n",
              "      <td>RKO</td>\n",
              "      <td>267.4</td>\n",
              "      <td>1942</td>\n",
              "    </tr>\n",
              "    <tr>\n",
              "      <th>101 Dalmatians</th>\n",
              "      <td>708</td>\n",
              "      <td>Buena Vista</td>\n",
              "      <td>215.9</td>\n",
              "      <td>1961</td>\n",
              "    </tr>\n",
              "    <tr>\n",
              "      <th>The Jungle Book</th>\n",
              "      <td>755</td>\n",
              "      <td>Buena Vista</td>\n",
              "      <td>205.8</td>\n",
              "      <td>1967</td>\n",
              "    </tr>\n",
              "    <tr>\n",
              "      <th>The Godfather</th>\n",
              "      <td>604</td>\n",
              "      <td>Paramount</td>\n",
              "      <td>245.1</td>\n",
              "      <td>1972</td>\n",
              "    </tr>\n",
              "    <tr>\n",
              "      <th>...</th>\n",
              "      <td>...</td>\n",
              "      <td>...</td>\n",
              "      <td>...</td>\n",
              "      <td>...</td>\n",
              "    </tr>\n",
              "    <tr>\n",
              "      <th>Us</th>\n",
              "      <td>572</td>\n",
              "      <td>Universal</td>\n",
              "      <td>254.7</td>\n",
              "      <td>2019</td>\n",
              "    </tr>\n",
              "    <tr>\n",
              "      <th>Glass</th>\n",
              "      <td>591</td>\n",
              "      <td>Universal</td>\n",
              "      <td>247.0</td>\n",
              "      <td>2019</td>\n",
              "    </tr>\n",
              "    <tr>\n",
              "      <th>Dark Phoenix</th>\n",
              "      <td>603</td>\n",
              "      <td>Fox</td>\n",
              "      <td>245.1</td>\n",
              "      <td>2019</td>\n",
              "    </tr>\n",
              "    <tr>\n",
              "      <th>The Secret Life of Pets 2</th>\n",
              "      <td>670</td>\n",
              "      <td>Universal</td>\n",
              "      <td>225.9</td>\n",
              "      <td>2019</td>\n",
              "    </tr>\n",
              "    <tr>\n",
              "      <th>Men in Black International</th>\n",
              "      <td>686</td>\n",
              "      <td>Sony</td>\n",
              "      <td>220.8</td>\n",
              "      <td>2019</td>\n",
              "    </tr>\n",
              "  </tbody>\n",
              "</table>\n",
              "<p>782 rows × 4 columns</p>\n",
              "</div>\n",
              "      <button class=\"colab-df-convert\" onclick=\"convertToInteractive('df-bfdd0d48-0034-4da1-be76-1be276b674cb')\"\n",
              "              title=\"Convert this dataframe to an interactive table.\"\n",
              "              style=\"display:none;\">\n",
              "        \n",
              "  <svg xmlns=\"http://www.w3.org/2000/svg\" height=\"24px\"viewBox=\"0 0 24 24\"\n",
              "       width=\"24px\">\n",
              "    <path d=\"M0 0h24v24H0V0z\" fill=\"none\"/>\n",
              "    <path d=\"M18.56 5.44l.94 2.06.94-2.06 2.06-.94-2.06-.94-.94-2.06-.94 2.06-2.06.94zm-11 1L8.5 8.5l.94-2.06 2.06-.94-2.06-.94L8.5 2.5l-.94 2.06-2.06.94zm10 10l.94 2.06.94-2.06 2.06-.94-2.06-.94-.94-2.06-.94 2.06-2.06.94z\"/><path d=\"M17.41 7.96l-1.37-1.37c-.4-.4-.92-.59-1.43-.59-.52 0-1.04.2-1.43.59L10.3 9.45l-7.72 7.72c-.78.78-.78 2.05 0 2.83L4 21.41c.39.39.9.59 1.41.59.51 0 1.02-.2 1.41-.59l7.78-7.78 2.81-2.81c.8-.78.8-2.07 0-2.86zM5.41 20L4 18.59l7.72-7.72 1.47 1.35L5.41 20z\"/>\n",
              "  </svg>\n",
              "      </button>\n",
              "      \n",
              "  <style>\n",
              "    .colab-df-container {\n",
              "      display:flex;\n",
              "      flex-wrap:wrap;\n",
              "      gap: 12px;\n",
              "    }\n",
              "\n",
              "    .colab-df-convert {\n",
              "      background-color: #E8F0FE;\n",
              "      border: none;\n",
              "      border-radius: 50%;\n",
              "      cursor: pointer;\n",
              "      display: none;\n",
              "      fill: #1967D2;\n",
              "      height: 32px;\n",
              "      padding: 0 0 0 0;\n",
              "      width: 32px;\n",
              "    }\n",
              "\n",
              "    .colab-df-convert:hover {\n",
              "      background-color: #E2EBFA;\n",
              "      box-shadow: 0px 1px 2px rgba(60, 64, 67, 0.3), 0px 1px 3px 1px rgba(60, 64, 67, 0.15);\n",
              "      fill: #174EA6;\n",
              "    }\n",
              "\n",
              "    [theme=dark] .colab-df-convert {\n",
              "      background-color: #3B4455;\n",
              "      fill: #D2E3FC;\n",
              "    }\n",
              "\n",
              "    [theme=dark] .colab-df-convert:hover {\n",
              "      background-color: #434B5C;\n",
              "      box-shadow: 0px 1px 3px 1px rgba(0, 0, 0, 0.15);\n",
              "      filter: drop-shadow(0px 1px 2px rgba(0, 0, 0, 0.3));\n",
              "      fill: #FFFFFF;\n",
              "    }\n",
              "  </style>\n",
              "\n",
              "      <script>\n",
              "        const buttonEl =\n",
              "          document.querySelector('#df-bfdd0d48-0034-4da1-be76-1be276b674cb button.colab-df-convert');\n",
              "        buttonEl.style.display =\n",
              "          google.colab.kernel.accessAllowed ? 'block' : 'none';\n",
              "\n",
              "        async function convertToInteractive(key) {\n",
              "          const element = document.querySelector('#df-bfdd0d48-0034-4da1-be76-1be276b674cb');\n",
              "          const dataTable =\n",
              "            await google.colab.kernel.invokeFunction('convertToInteractive',\n",
              "                                                     [key], {});\n",
              "          if (!dataTable) return;\n",
              "\n",
              "          const docLinkHtml = 'Like what you see? Visit the ' +\n",
              "            '<a target=\"_blank\" href=https://colab.research.google.com/notebooks/data_table.ipynb>data table notebook</a>'\n",
              "            + ' to learn more about interactive tables.';\n",
              "          element.innerHTML = '';\n",
              "          dataTable['output_type'] = 'display_data';\n",
              "          await google.colab.output.renderOutput(dataTable, element);\n",
              "          const docLink = document.createElement('div');\n",
              "          docLink.innerHTML = docLinkHtml;\n",
              "          element.appendChild(docLink);\n",
              "        }\n",
              "      </script>\n",
              "    </div>\n",
              "  </div>\n",
              "  "
            ]
          },
          "metadata": {},
          "execution_count": 6
        }
      ]
    },
    {
      "cell_type": "markdown",
      "source": [
        "## TASK 3: Only show the last 15 rows of the results from the previous task.\n",
        "\n",
        "HINT: Take the code from the previous task and append to it a method at the end that will restrict the number of rows displayed.\n",
        "\n",
        "`df.________( [_____,_____], ___________[__,___] )._________`"
      ],
      "metadata": {
        "id": "4Q8_j55gaQXf"
      }
    },
    {
      "cell_type": "code",
      "source": [
        "# write your code here\n",
        "df.sort_values(['Year','Gross(M)'], ascending = [True,False]).tail(15)"
      ],
      "metadata": {
        "id": "UdianfifamvW",
        "colab": {
          "base_uri": "https://localhost:8080/",
          "height": 545
        },
        "outputId": "a28da7a1-e69e-46cb-f084-02cca98d2fd8"
      },
      "execution_count": 7,
      "outputs": [
        {
          "output_type": "execute_result",
          "data": {
            "text/plain": [
              "                                            Rank                  Studio  \\\n",
              "Title                                                                      \n",
              "Aladdin -2                                    59             Buena Vista   \n",
              "The Wandering Earth                          114  China Film Corporation   \n",
              "Toy Story 4                                  198             Buena Vista   \n",
              "How to Train Your Dragon: The Hidden World   199               Universal   \n",
              "Pokemon Detective Pikachu                    263         Warner Brothers   \n",
              "Alita: Battle Angel                          286                     Fox   \n",
              "Godzilla: King of the Monsters               315         Warner Brothers   \n",
              "Shazam!                                      340         Warner Brothers   \n",
              "Dumbo                                        369             Buena Vista   \n",
              "John Wick: Chapter 3 - Parabellum            458               Lionsgate   \n",
              "Us                                           572               Universal   \n",
              "Glass                                        591               Universal   \n",
              "Dark Phoenix                                 603                     Fox   \n",
              "The Secret Life of Pets 2                    670               Universal   \n",
              "Men in Black International                   686                    Sony   \n",
              "\n",
              "                                            Gross(M)  Year  \n",
              "Title                                                       \n",
              "Aladdin -2                                     880.2  2019  \n",
              "The Wandering Earth                            699.8  2019  \n",
              "Toy Story 4                                    519.8  2019  \n",
              "How to Train Your Dragon: The Hidden World     519.8  2019  \n",
              "Pokemon Detective Pikachu                      427.5  2019  \n",
              "Alita: Battle Angel                            404.9  2019  \n",
              "Godzilla: King of the Monsters                 378.1  2019  \n",
              "Shazam!                                        364.1  2019  \n",
              "Dumbo                                          351.8  2019  \n",
              "John Wick: Chapter 3 - Parabellum              304.7  2019  \n",
              "Us                                             254.7  2019  \n",
              "Glass                                          247.0  2019  \n",
              "Dark Phoenix                                   245.1  2019  \n",
              "The Secret Life of Pets 2                      225.9  2019  \n",
              "Men in Black International                     220.8  2019  "
            ],
            "text/html": [
              "\n",
              "  <div id=\"df-f51b2be2-acef-4c11-ac12-5aa8ac2a6be7\">\n",
              "    <div class=\"colab-df-container\">\n",
              "      <div>\n",
              "<style scoped>\n",
              "    .dataframe tbody tr th:only-of-type {\n",
              "        vertical-align: middle;\n",
              "    }\n",
              "\n",
              "    .dataframe tbody tr th {\n",
              "        vertical-align: top;\n",
              "    }\n",
              "\n",
              "    .dataframe thead th {\n",
              "        text-align: right;\n",
              "    }\n",
              "</style>\n",
              "<table border=\"1\" class=\"dataframe\">\n",
              "  <thead>\n",
              "    <tr style=\"text-align: right;\">\n",
              "      <th></th>\n",
              "      <th>Rank</th>\n",
              "      <th>Studio</th>\n",
              "      <th>Gross(M)</th>\n",
              "      <th>Year</th>\n",
              "    </tr>\n",
              "    <tr>\n",
              "      <th>Title</th>\n",
              "      <th></th>\n",
              "      <th></th>\n",
              "      <th></th>\n",
              "      <th></th>\n",
              "    </tr>\n",
              "  </thead>\n",
              "  <tbody>\n",
              "    <tr>\n",
              "      <th>Aladdin -2</th>\n",
              "      <td>59</td>\n",
              "      <td>Buena Vista</td>\n",
              "      <td>880.2</td>\n",
              "      <td>2019</td>\n",
              "    </tr>\n",
              "    <tr>\n",
              "      <th>The Wandering Earth</th>\n",
              "      <td>114</td>\n",
              "      <td>China Film Corporation</td>\n",
              "      <td>699.8</td>\n",
              "      <td>2019</td>\n",
              "    </tr>\n",
              "    <tr>\n",
              "      <th>Toy Story 4</th>\n",
              "      <td>198</td>\n",
              "      <td>Buena Vista</td>\n",
              "      <td>519.8</td>\n",
              "      <td>2019</td>\n",
              "    </tr>\n",
              "    <tr>\n",
              "      <th>How to Train Your Dragon: The Hidden World</th>\n",
              "      <td>199</td>\n",
              "      <td>Universal</td>\n",
              "      <td>519.8</td>\n",
              "      <td>2019</td>\n",
              "    </tr>\n",
              "    <tr>\n",
              "      <th>Pokemon Detective Pikachu</th>\n",
              "      <td>263</td>\n",
              "      <td>Warner Brothers</td>\n",
              "      <td>427.5</td>\n",
              "      <td>2019</td>\n",
              "    </tr>\n",
              "    <tr>\n",
              "      <th>Alita: Battle Angel</th>\n",
              "      <td>286</td>\n",
              "      <td>Fox</td>\n",
              "      <td>404.9</td>\n",
              "      <td>2019</td>\n",
              "    </tr>\n",
              "    <tr>\n",
              "      <th>Godzilla: King of the Monsters</th>\n",
              "      <td>315</td>\n",
              "      <td>Warner Brothers</td>\n",
              "      <td>378.1</td>\n",
              "      <td>2019</td>\n",
              "    </tr>\n",
              "    <tr>\n",
              "      <th>Shazam!</th>\n",
              "      <td>340</td>\n",
              "      <td>Warner Brothers</td>\n",
              "      <td>364.1</td>\n",
              "      <td>2019</td>\n",
              "    </tr>\n",
              "    <tr>\n",
              "      <th>Dumbo</th>\n",
              "      <td>369</td>\n",
              "      <td>Buena Vista</td>\n",
              "      <td>351.8</td>\n",
              "      <td>2019</td>\n",
              "    </tr>\n",
              "    <tr>\n",
              "      <th>John Wick: Chapter 3 - Parabellum</th>\n",
              "      <td>458</td>\n",
              "      <td>Lionsgate</td>\n",
              "      <td>304.7</td>\n",
              "      <td>2019</td>\n",
              "    </tr>\n",
              "    <tr>\n",
              "      <th>Us</th>\n",
              "      <td>572</td>\n",
              "      <td>Universal</td>\n",
              "      <td>254.7</td>\n",
              "      <td>2019</td>\n",
              "    </tr>\n",
              "    <tr>\n",
              "      <th>Glass</th>\n",
              "      <td>591</td>\n",
              "      <td>Universal</td>\n",
              "      <td>247.0</td>\n",
              "      <td>2019</td>\n",
              "    </tr>\n",
              "    <tr>\n",
              "      <th>Dark Phoenix</th>\n",
              "      <td>603</td>\n",
              "      <td>Fox</td>\n",
              "      <td>245.1</td>\n",
              "      <td>2019</td>\n",
              "    </tr>\n",
              "    <tr>\n",
              "      <th>The Secret Life of Pets 2</th>\n",
              "      <td>670</td>\n",
              "      <td>Universal</td>\n",
              "      <td>225.9</td>\n",
              "      <td>2019</td>\n",
              "    </tr>\n",
              "    <tr>\n",
              "      <th>Men in Black International</th>\n",
              "      <td>686</td>\n",
              "      <td>Sony</td>\n",
              "      <td>220.8</td>\n",
              "      <td>2019</td>\n",
              "    </tr>\n",
              "  </tbody>\n",
              "</table>\n",
              "</div>\n",
              "      <button class=\"colab-df-convert\" onclick=\"convertToInteractive('df-f51b2be2-acef-4c11-ac12-5aa8ac2a6be7')\"\n",
              "              title=\"Convert this dataframe to an interactive table.\"\n",
              "              style=\"display:none;\">\n",
              "        \n",
              "  <svg xmlns=\"http://www.w3.org/2000/svg\" height=\"24px\"viewBox=\"0 0 24 24\"\n",
              "       width=\"24px\">\n",
              "    <path d=\"M0 0h24v24H0V0z\" fill=\"none\"/>\n",
              "    <path d=\"M18.56 5.44l.94 2.06.94-2.06 2.06-.94-2.06-.94-.94-2.06-.94 2.06-2.06.94zm-11 1L8.5 8.5l.94-2.06 2.06-.94-2.06-.94L8.5 2.5l-.94 2.06-2.06.94zm10 10l.94 2.06.94-2.06 2.06-.94-2.06-.94-.94-2.06-.94 2.06-2.06.94z\"/><path d=\"M17.41 7.96l-1.37-1.37c-.4-.4-.92-.59-1.43-.59-.52 0-1.04.2-1.43.59L10.3 9.45l-7.72 7.72c-.78.78-.78 2.05 0 2.83L4 21.41c.39.39.9.59 1.41.59.51 0 1.02-.2 1.41-.59l7.78-7.78 2.81-2.81c.8-.78.8-2.07 0-2.86zM5.41 20L4 18.59l7.72-7.72 1.47 1.35L5.41 20z\"/>\n",
              "  </svg>\n",
              "      </button>\n",
              "      \n",
              "  <style>\n",
              "    .colab-df-container {\n",
              "      display:flex;\n",
              "      flex-wrap:wrap;\n",
              "      gap: 12px;\n",
              "    }\n",
              "\n",
              "    .colab-df-convert {\n",
              "      background-color: #E8F0FE;\n",
              "      border: none;\n",
              "      border-radius: 50%;\n",
              "      cursor: pointer;\n",
              "      display: none;\n",
              "      fill: #1967D2;\n",
              "      height: 32px;\n",
              "      padding: 0 0 0 0;\n",
              "      width: 32px;\n",
              "    }\n",
              "\n",
              "    .colab-df-convert:hover {\n",
              "      background-color: #E2EBFA;\n",
              "      box-shadow: 0px 1px 2px rgba(60, 64, 67, 0.3), 0px 1px 3px 1px rgba(60, 64, 67, 0.15);\n",
              "      fill: #174EA6;\n",
              "    }\n",
              "\n",
              "    [theme=dark] .colab-df-convert {\n",
              "      background-color: #3B4455;\n",
              "      fill: #D2E3FC;\n",
              "    }\n",
              "\n",
              "    [theme=dark] .colab-df-convert:hover {\n",
              "      background-color: #434B5C;\n",
              "      box-shadow: 0px 1px 3px 1px rgba(0, 0, 0, 0.15);\n",
              "      filter: drop-shadow(0px 1px 2px rgba(0, 0, 0, 0.3));\n",
              "      fill: #FFFFFF;\n",
              "    }\n",
              "  </style>\n",
              "\n",
              "      <script>\n",
              "        const buttonEl =\n",
              "          document.querySelector('#df-f51b2be2-acef-4c11-ac12-5aa8ac2a6be7 button.colab-df-convert');\n",
              "        buttonEl.style.display =\n",
              "          google.colab.kernel.accessAllowed ? 'block' : 'none';\n",
              "\n",
              "        async function convertToInteractive(key) {\n",
              "          const element = document.querySelector('#df-f51b2be2-acef-4c11-ac12-5aa8ac2a6be7');\n",
              "          const dataTable =\n",
              "            await google.colab.kernel.invokeFunction('convertToInteractive',\n",
              "                                                     [key], {});\n",
              "          if (!dataTable) return;\n",
              "\n",
              "          const docLinkHtml = 'Like what you see? Visit the ' +\n",
              "            '<a target=\"_blank\" href=https://colab.research.google.com/notebooks/data_table.ipynb>data table notebook</a>'\n",
              "            + ' to learn more about interactive tables.';\n",
              "          element.innerHTML = '';\n",
              "          dataTable['output_type'] = 'display_data';\n",
              "          await google.colab.output.renderOutput(dataTable, element);\n",
              "          const docLink = document.createElement('div');\n",
              "          docLink.innerHTML = docLinkHtml;\n",
              "          element.appendChild(docLink);\n",
              "        }\n",
              "      </script>\n",
              "    </div>\n",
              "  </div>\n",
              "  "
            ]
          },
          "metadata": {},
          "execution_count": 7
        }
      ]
    },
    {
      "cell_type": "markdown",
      "source": [
        "## TASK 4. Display the 110th movie in the original DataFrame.\n",
        "\n",
        "HINT: use integer indexing on a DataFrame\n",
        "\n",
        "`____._________[____]`\n",
        "\n"
      ],
      "metadata": {
        "id": "9uWgFrLpnCMP"
      }
    },
    {
      "cell_type": "code",
      "source": [
        "# write your code here\n",
        "df.iloc[109] #give the row with index 109 and rank 110"
      ],
      "metadata": {
        "id": "dGwphp4gnNdE",
        "colab": {
          "base_uri": "https://localhost:8080/"
        },
        "outputId": "0c8f0b32-8692-46b2-d87a-1d448bdaa9cf"
      },
      "execution_count": 8,
      "outputs": [
        {
          "output_type": "execute_result",
          "data": {
            "text/plain": [
              "Rank              110\n",
              "Studio      Lionsgate\n",
              "Gross(M)        709.7\n",
              "Year             2009\n",
              "Name: The Twilight Saga: New Moon, dtype: object"
            ]
          },
          "metadata": {},
          "execution_count": 8
        }
      ]
    },
    {
      "cell_type": "markdown",
      "source": [
        "## TASK 5. Find the min and max of 'Title'. \n",
        "\n",
        "HINT. Title is now the index of the DataFrame - it is not a column.\n",
        "\n",
        "So you have to first obtain the index of the DataFrame using an attribute, and then call the methods that will give us the minimum and maximum values.\n",
        "\n",
        "`______.______._______()`\n"
      ],
      "metadata": {
        "id": "GRezZWoFapGJ"
      }
    },
    {
      "cell_type": "code",
      "source": [
        "# write your code here for min --confrim?\n",
        "index1 = df.index.min() # index inbuilt command for title(index)\n",
        "index1"
      ],
      "metadata": {
        "id": "9SrvxHntbcQp",
        "colab": {
          "base_uri": "https://localhost:8080/",
          "height": 37
        },
        "outputId": "bc88892f-9814-489e-d856-9dac5f6491d4"
      },
      "execution_count": 9,
      "outputs": [
        {
          "output_type": "execute_result",
          "data": {
            "text/plain": [
              "'10,000 B.C.'"
            ],
            "application/vnd.google.colaboratory.intrinsic+json": {
              "type": "string"
            }
          },
          "metadata": {},
          "execution_count": 9
        }
      ]
    },
    {
      "cell_type": "code",
      "source": [
        "# write your code here for max\n",
        "index1 = df.index.max()\n",
        "index1"
      ],
      "metadata": {
        "id": "gziynUzHbdZe",
        "colab": {
          "base_uri": "https://localhost:8080/",
          "height": 37
        },
        "outputId": "f84b3f83-025a-4c91-cb92-688225786aaa"
      },
      "execution_count": 10,
      "outputs": [
        {
          "output_type": "execute_result",
          "data": {
            "text/plain": [
              "'xXx: The Return of Xander Cage'"
            ],
            "application/vnd.google.colaboratory.intrinsic+json": {
              "type": "string"
            }
          },
          "metadata": {},
          "execution_count": 10
        }
      ]
    },
    {
      "cell_type": "markdown",
      "source": [
        "## TASK 6. What is the type of the object df?\n",
        "\n",
        "HINT: You can answer this question using a standard Python function that returns the type of a value.\n",
        "\n",
        "`______(df)`"
      ],
      "metadata": {
        "id": "FbD0-mcobhFd"
      }
    },
    {
      "cell_type": "code",
      "source": [
        "# write your code here\n",
        "type(df)"
      ],
      "metadata": {
        "id": "pxtRlyopclft",
        "colab": {
          "base_uri": "https://localhost:8080/"
        },
        "outputId": "98724007-39a9-48b0-a0fa-d121fb66cdd8"
      },
      "execution_count": 11,
      "outputs": [
        {
          "output_type": "execute_result",
          "data": {
            "text/plain": [
              "pandas.core.frame.DataFrame"
            ]
          },
          "metadata": {},
          "execution_count": 11
        }
      ]
    },
    {
      "cell_type": "markdown",
      "source": [
        "## TASK 7. Obtain only the movies owned by 'Orion' studio.\n",
        "\n",
        "HINT: since this questions asks you to select or filetr rows based on a condition, use df.loc[] and inside the [] specify a condition to check whether the Studio value is equal (==) 'Orion'\n",
        "\n",
        "`_____.________[ ________________]`"
      ],
      "metadata": {
        "id": "bi88Y-xscrd1"
      }
    },
    {
      "cell_type": "code",
      "source": [
        "# write your code here\n",
        "df.loc[(df['Studio'] == 'Orion')]"
      ],
      "metadata": {
        "id": "yQb_K_kudBtJ",
        "colab": {
          "base_uri": "https://localhost:8080/",
          "height": 142
        },
        "outputId": "875e27ba-5fed-430d-8847-e7dfd874cdda"
      },
      "execution_count": 12,
      "outputs": [
        {
          "output_type": "execute_result",
          "data": {
            "text/plain": [
              "                          Rank Studio  Gross(M)  Year\n",
              "Title                                                \n",
              "Dances with Wolves         268  Orion     424.2  1990\n",
              "The Silence of the Lambs   530  Orion     272.7  1991"
            ],
            "text/html": [
              "\n",
              "  <div id=\"df-898527ef-6f53-4521-a6c7-8edc2f107475\">\n",
              "    <div class=\"colab-df-container\">\n",
              "      <div>\n",
              "<style scoped>\n",
              "    .dataframe tbody tr th:only-of-type {\n",
              "        vertical-align: middle;\n",
              "    }\n",
              "\n",
              "    .dataframe tbody tr th {\n",
              "        vertical-align: top;\n",
              "    }\n",
              "\n",
              "    .dataframe thead th {\n",
              "        text-align: right;\n",
              "    }\n",
              "</style>\n",
              "<table border=\"1\" class=\"dataframe\">\n",
              "  <thead>\n",
              "    <tr style=\"text-align: right;\">\n",
              "      <th></th>\n",
              "      <th>Rank</th>\n",
              "      <th>Studio</th>\n",
              "      <th>Gross(M)</th>\n",
              "      <th>Year</th>\n",
              "    </tr>\n",
              "    <tr>\n",
              "      <th>Title</th>\n",
              "      <th></th>\n",
              "      <th></th>\n",
              "      <th></th>\n",
              "      <th></th>\n",
              "    </tr>\n",
              "  </thead>\n",
              "  <tbody>\n",
              "    <tr>\n",
              "      <th>Dances with Wolves</th>\n",
              "      <td>268</td>\n",
              "      <td>Orion</td>\n",
              "      <td>424.2</td>\n",
              "      <td>1990</td>\n",
              "    </tr>\n",
              "    <tr>\n",
              "      <th>The Silence of the Lambs</th>\n",
              "      <td>530</td>\n",
              "      <td>Orion</td>\n",
              "      <td>272.7</td>\n",
              "      <td>1991</td>\n",
              "    </tr>\n",
              "  </tbody>\n",
              "</table>\n",
              "</div>\n",
              "      <button class=\"colab-df-convert\" onclick=\"convertToInteractive('df-898527ef-6f53-4521-a6c7-8edc2f107475')\"\n",
              "              title=\"Convert this dataframe to an interactive table.\"\n",
              "              style=\"display:none;\">\n",
              "        \n",
              "  <svg xmlns=\"http://www.w3.org/2000/svg\" height=\"24px\"viewBox=\"0 0 24 24\"\n",
              "       width=\"24px\">\n",
              "    <path d=\"M0 0h24v24H0V0z\" fill=\"none\"/>\n",
              "    <path d=\"M18.56 5.44l.94 2.06.94-2.06 2.06-.94-2.06-.94-.94-2.06-.94 2.06-2.06.94zm-11 1L8.5 8.5l.94-2.06 2.06-.94-2.06-.94L8.5 2.5l-.94 2.06-2.06.94zm10 10l.94 2.06.94-2.06 2.06-.94-2.06-.94-.94-2.06-.94 2.06-2.06.94z\"/><path d=\"M17.41 7.96l-1.37-1.37c-.4-.4-.92-.59-1.43-.59-.52 0-1.04.2-1.43.59L10.3 9.45l-7.72 7.72c-.78.78-.78 2.05 0 2.83L4 21.41c.39.39.9.59 1.41.59.51 0 1.02-.2 1.41-.59l7.78-7.78 2.81-2.81c.8-.78.8-2.07 0-2.86zM5.41 20L4 18.59l7.72-7.72 1.47 1.35L5.41 20z\"/>\n",
              "  </svg>\n",
              "      </button>\n",
              "      \n",
              "  <style>\n",
              "    .colab-df-container {\n",
              "      display:flex;\n",
              "      flex-wrap:wrap;\n",
              "      gap: 12px;\n",
              "    }\n",
              "\n",
              "    .colab-df-convert {\n",
              "      background-color: #E8F0FE;\n",
              "      border: none;\n",
              "      border-radius: 50%;\n",
              "      cursor: pointer;\n",
              "      display: none;\n",
              "      fill: #1967D2;\n",
              "      height: 32px;\n",
              "      padding: 0 0 0 0;\n",
              "      width: 32px;\n",
              "    }\n",
              "\n",
              "    .colab-df-convert:hover {\n",
              "      background-color: #E2EBFA;\n",
              "      box-shadow: 0px 1px 2px rgba(60, 64, 67, 0.3), 0px 1px 3px 1px rgba(60, 64, 67, 0.15);\n",
              "      fill: #174EA6;\n",
              "    }\n",
              "\n",
              "    [theme=dark] .colab-df-convert {\n",
              "      background-color: #3B4455;\n",
              "      fill: #D2E3FC;\n",
              "    }\n",
              "\n",
              "    [theme=dark] .colab-df-convert:hover {\n",
              "      background-color: #434B5C;\n",
              "      box-shadow: 0px 1px 3px 1px rgba(0, 0, 0, 0.15);\n",
              "      filter: drop-shadow(0px 1px 2px rgba(0, 0, 0, 0.3));\n",
              "      fill: #FFFFFF;\n",
              "    }\n",
              "  </style>\n",
              "\n",
              "      <script>\n",
              "        const buttonEl =\n",
              "          document.querySelector('#df-898527ef-6f53-4521-a6c7-8edc2f107475 button.colab-df-convert');\n",
              "        buttonEl.style.display =\n",
              "          google.colab.kernel.accessAllowed ? 'block' : 'none';\n",
              "\n",
              "        async function convertToInteractive(key) {\n",
              "          const element = document.querySelector('#df-898527ef-6f53-4521-a6c7-8edc2f107475');\n",
              "          const dataTable =\n",
              "            await google.colab.kernel.invokeFunction('convertToInteractive',\n",
              "                                                     [key], {});\n",
              "          if (!dataTable) return;\n",
              "\n",
              "          const docLinkHtml = 'Like what you see? Visit the ' +\n",
              "            '<a target=\"_blank\" href=https://colab.research.google.com/notebooks/data_table.ipynb>data table notebook</a>'\n",
              "            + ' to learn more about interactive tables.';\n",
              "          element.innerHTML = '';\n",
              "          dataTable['output_type'] = 'display_data';\n",
              "          await google.colab.output.renderOutput(dataTable, element);\n",
              "          const docLink = document.createElement('div');\n",
              "          docLink.innerHTML = docLinkHtml;\n",
              "          element.appendChild(docLink);\n",
              "        }\n",
              "      </script>\n",
              "    </div>\n",
              "  </div>\n",
              "  "
            ]
          },
          "metadata": {},
          "execution_count": 12
        }
      ]
    },
    {
      "cell_type": "markdown",
      "source": [
        "## TASK 8. Obtain only the movies owned by either 'Orion' or 'Polygram' studios, and sort the result by year in ascending order.\n",
        "\n",
        "HINT: once again, this question is asking you to filter rows based on either one of two conditions being True.  (remember to use `|` for OR in Pandas)\n",
        "Use df.loc[] and inside [] specify two conditions, each should be in parentheses ( ) sepaarted by `|`. Finally call a method to sort the values.\n",
        "\n",
        "`df.____[ (________) ___  (________) ].____________`"
      ],
      "metadata": {
        "id": "KGwA-3f6dGkR"
      }
    },
    {
      "cell_type": "code",
      "source": [
        "# write your code here\n",
        "df.loc[(df['Studio'] == 'Orion') | (df['Studio'] == 'Polygram')].sort_values('Year')"
      ],
      "metadata": {
        "id": "fWrP15nfdO6q",
        "colab": {
          "base_uri": "https://localhost:8080/",
          "height": 204
        },
        "outputId": "10d525fa-2a22-4b23-d03b-79c83db788c1"
      },
      "execution_count": 13,
      "outputs": [
        {
          "output_type": "execute_result",
          "data": {
            "text/plain": [
              "                             Rank    Studio  Gross(M)  Year\n",
              "Title                                                      \n",
              "Dances with Wolves            268     Orion     424.2  1990\n",
              "The Silence of the Lambs      530     Orion     272.7  1991\n",
              "Four Weddings and a Funeral   597  Polygram     245.7  1994\n",
              "Bean                          580  Polygram     251.2  1997"
            ],
            "text/html": [
              "\n",
              "  <div id=\"df-3ba882e1-1bdb-4088-a14b-55b9a897828e\">\n",
              "    <div class=\"colab-df-container\">\n",
              "      <div>\n",
              "<style scoped>\n",
              "    .dataframe tbody tr th:only-of-type {\n",
              "        vertical-align: middle;\n",
              "    }\n",
              "\n",
              "    .dataframe tbody tr th {\n",
              "        vertical-align: top;\n",
              "    }\n",
              "\n",
              "    .dataframe thead th {\n",
              "        text-align: right;\n",
              "    }\n",
              "</style>\n",
              "<table border=\"1\" class=\"dataframe\">\n",
              "  <thead>\n",
              "    <tr style=\"text-align: right;\">\n",
              "      <th></th>\n",
              "      <th>Rank</th>\n",
              "      <th>Studio</th>\n",
              "      <th>Gross(M)</th>\n",
              "      <th>Year</th>\n",
              "    </tr>\n",
              "    <tr>\n",
              "      <th>Title</th>\n",
              "      <th></th>\n",
              "      <th></th>\n",
              "      <th></th>\n",
              "      <th></th>\n",
              "    </tr>\n",
              "  </thead>\n",
              "  <tbody>\n",
              "    <tr>\n",
              "      <th>Dances with Wolves</th>\n",
              "      <td>268</td>\n",
              "      <td>Orion</td>\n",
              "      <td>424.2</td>\n",
              "      <td>1990</td>\n",
              "    </tr>\n",
              "    <tr>\n",
              "      <th>The Silence of the Lambs</th>\n",
              "      <td>530</td>\n",
              "      <td>Orion</td>\n",
              "      <td>272.7</td>\n",
              "      <td>1991</td>\n",
              "    </tr>\n",
              "    <tr>\n",
              "      <th>Four Weddings and a Funeral</th>\n",
              "      <td>597</td>\n",
              "      <td>Polygram</td>\n",
              "      <td>245.7</td>\n",
              "      <td>1994</td>\n",
              "    </tr>\n",
              "    <tr>\n",
              "      <th>Bean</th>\n",
              "      <td>580</td>\n",
              "      <td>Polygram</td>\n",
              "      <td>251.2</td>\n",
              "      <td>1997</td>\n",
              "    </tr>\n",
              "  </tbody>\n",
              "</table>\n",
              "</div>\n",
              "      <button class=\"colab-df-convert\" onclick=\"convertToInteractive('df-3ba882e1-1bdb-4088-a14b-55b9a897828e')\"\n",
              "              title=\"Convert this dataframe to an interactive table.\"\n",
              "              style=\"display:none;\">\n",
              "        \n",
              "  <svg xmlns=\"http://www.w3.org/2000/svg\" height=\"24px\"viewBox=\"0 0 24 24\"\n",
              "       width=\"24px\">\n",
              "    <path d=\"M0 0h24v24H0V0z\" fill=\"none\"/>\n",
              "    <path d=\"M18.56 5.44l.94 2.06.94-2.06 2.06-.94-2.06-.94-.94-2.06-.94 2.06-2.06.94zm-11 1L8.5 8.5l.94-2.06 2.06-.94-2.06-.94L8.5 2.5l-.94 2.06-2.06.94zm10 10l.94 2.06.94-2.06 2.06-.94-2.06-.94-.94-2.06-.94 2.06-2.06.94z\"/><path d=\"M17.41 7.96l-1.37-1.37c-.4-.4-.92-.59-1.43-.59-.52 0-1.04.2-1.43.59L10.3 9.45l-7.72 7.72c-.78.78-.78 2.05 0 2.83L4 21.41c.39.39.9.59 1.41.59.51 0 1.02-.2 1.41-.59l7.78-7.78 2.81-2.81c.8-.78.8-2.07 0-2.86zM5.41 20L4 18.59l7.72-7.72 1.47 1.35L5.41 20z\"/>\n",
              "  </svg>\n",
              "      </button>\n",
              "      \n",
              "  <style>\n",
              "    .colab-df-container {\n",
              "      display:flex;\n",
              "      flex-wrap:wrap;\n",
              "      gap: 12px;\n",
              "    }\n",
              "\n",
              "    .colab-df-convert {\n",
              "      background-color: #E8F0FE;\n",
              "      border: none;\n",
              "      border-radius: 50%;\n",
              "      cursor: pointer;\n",
              "      display: none;\n",
              "      fill: #1967D2;\n",
              "      height: 32px;\n",
              "      padding: 0 0 0 0;\n",
              "      width: 32px;\n",
              "    }\n",
              "\n",
              "    .colab-df-convert:hover {\n",
              "      background-color: #E2EBFA;\n",
              "      box-shadow: 0px 1px 2px rgba(60, 64, 67, 0.3), 0px 1px 3px 1px rgba(60, 64, 67, 0.15);\n",
              "      fill: #174EA6;\n",
              "    }\n",
              "\n",
              "    [theme=dark] .colab-df-convert {\n",
              "      background-color: #3B4455;\n",
              "      fill: #D2E3FC;\n",
              "    }\n",
              "\n",
              "    [theme=dark] .colab-df-convert:hover {\n",
              "      background-color: #434B5C;\n",
              "      box-shadow: 0px 1px 3px 1px rgba(0, 0, 0, 0.15);\n",
              "      filter: drop-shadow(0px 1px 2px rgba(0, 0, 0, 0.3));\n",
              "      fill: #FFFFFF;\n",
              "    }\n",
              "  </style>\n",
              "\n",
              "      <script>\n",
              "        const buttonEl =\n",
              "          document.querySelector('#df-3ba882e1-1bdb-4088-a14b-55b9a897828e button.colab-df-convert');\n",
              "        buttonEl.style.display =\n",
              "          google.colab.kernel.accessAllowed ? 'block' : 'none';\n",
              "\n",
              "        async function convertToInteractive(key) {\n",
              "          const element = document.querySelector('#df-3ba882e1-1bdb-4088-a14b-55b9a897828e');\n",
              "          const dataTable =\n",
              "            await google.colab.kernel.invokeFunction('convertToInteractive',\n",
              "                                                     [key], {});\n",
              "          if (!dataTable) return;\n",
              "\n",
              "          const docLinkHtml = 'Like what you see? Visit the ' +\n",
              "            '<a target=\"_blank\" href=https://colab.research.google.com/notebooks/data_table.ipynb>data table notebook</a>'\n",
              "            + ' to learn more about interactive tables.';\n",
              "          element.innerHTML = '';\n",
              "          dataTable['output_type'] = 'display_data';\n",
              "          await google.colab.output.renderOutput(dataTable, element);\n",
              "          const docLink = document.createElement('div');\n",
              "          docLink.innerHTML = docLinkHtml;\n",
              "          element.appendChild(docLink);\n",
              "        }\n",
              "      </script>\n",
              "    </div>\n",
              "  </div>\n",
              "  "
            ]
          },
          "metadata": {},
          "execution_count": 13
        }
      ]
    },
    {
      "cell_type": "markdown",
      "source": [
        "## TASK 9. Display the number of movies made by Studios that made movies in the years 2007 to 2010 inclusive\n",
        "\n",
        "HINT: after using .loc[] to select only specific rows that satisfy the condition on the Year column, select only the Studio column and then call a Series method to calculate the frquency distribution of values in a column (i.e. values_counts()).\n",
        "\n",
        "`______.loc {(_______) ___ ( ________)} [________]. ___________`"
      ],
      "metadata": {
        "id": "0nlfvZPcoXEz"
      }
    },
    {
      "cell_type": "code",
      "source": [
        "# write your code here\n",
        "\n",
        "#df.loc[ (df['Year'] >=2007) & (df['Year'] <= 2010)].Studio.value_counts()\n",
        "df.loc[ (df['Year'] >=2007) & (df['Year'] <= 2010)]['Studio'].value_counts()"
      ],
      "metadata": {
        "id": "PsdMNKw5okuL",
        "colab": {
          "base_uri": "https://localhost:8080/"
        },
        "outputId": "b0609b68-a0c2-4fae-a4fd-1b2d940ba85d"
      },
      "execution_count": 18,
      "outputs": [
        {
          "output_type": "execute_result",
          "data": {
            "text/plain": [
              "Fox                23\n",
              "Warner Brothers    23\n",
              "Buena Vista        22\n",
              "Sony               16\n",
              "Universal          14\n",
              "Paramount          11\n",
              "Dreamworks          8\n",
              "Lionsgate           4\n",
              "New Line            3\n",
              "Weinstein           2\n",
              "Pathe               1\n",
              "TriStar             1\n",
              "MGM                 1\n",
              "Name: Studio, dtype: int64"
            ]
          },
          "metadata": {},
          "execution_count": 18
        }
      ]
    },
    {
      "cell_type": "markdown",
      "source": [
        "## TASK 10. Which Studio has the highest average ranking (that means its movies sold the least on average ) ? Sort the results by values in ascending order.\n",
        "\n",
        "HINT: This task requires that you first groupby Studio and then select the column over which you want to obtain the average, and call an appropriate aggregation statistic to compute the average within each group. Finally, dont forget to sort the Series in descending order of values to obtain the highest average at the top.\n",
        "\n",
        "***In a separate cell, write down your answer as a comment. (which studio?).***\n",
        "\n",
        "`df._________( [_____,_______} ).______._________(________)`"
      ],
      "metadata": {
        "id": "a9aRvylfdmeD"
      }
    },
    {
      "cell_type": "code",
      "source": [
        "# write your code here\n",
        "df.groupby(['Studio'])['Gross(M)'].mean().sort_values(ascending = [True])  #mean is the function to use\n",
        "# I followed ascending order since I am doing the sorting on gross column and not rank column.\n"
      ],
      "metadata": {
        "id": "l8Quhy6nd931",
        "colab": {
          "base_uri": "https://localhost:8080/"
        },
        "outputId": "4d38241f-538c-4806-8646-b732c7a16653"
      },
      "execution_count": 28,
      "outputs": [
        {
          "output_type": "execute_result",
          "data": {
            "text/plain": [
              "Studio\n",
              "Magn.                     205.600000\n",
              "Focus                     205.800000\n",
              "USA                       207.500000\n",
              "Vestron                   214.600000\n",
              "Lions                     222.400000\n",
              "Rela.                     226.900000\n",
              "CL                        228.100000\n",
              "Dimension                 244.350000\n",
              "Pathe                     245.100000\n",
              "Miramax                   248.060000\n",
              "Polygram                  248.450000\n",
              "Artisan                   248.600000\n",
              "GrtIndia                  254.200000\n",
              "Columbia                  255.320000\n",
              "SonR                      257.550000\n",
              "RKO                       267.400000\n",
              "TriStar                   289.590909\n",
              "UTV                       302.900000\n",
              "MGM                       319.372727\n",
              "WGUSA                     337.275000\n",
              "Weinstein                 342.950000\n",
              "Orion                     348.450000\n",
              "FUN                       358.000000\n",
              "IFC                       368.700000\n",
              "Sony                      381.656977\n",
              "FR                        385.300000\n",
              "Universal                 406.443119\n",
              "New Line                  411.550000\n",
              "Paramount                 427.447368\n",
              "Fox                       430.947009\n",
              "Warner Brothers           444.271212\n",
              "Dreamworks                454.088889\n",
              "Lionsgate                 477.771429\n",
              "Buena Vista               588.680000\n",
              "Newmarket                 611.900000\n",
              "China Film Corporation    699.800000\n",
              "HC                        870.300000\n",
              "Name: Gross(M), dtype: float64"
            ]
          },
          "metadata": {},
          "execution_count": 28
        }
      ]
    },
    {
      "cell_type": "code",
      "source": [
        "# write you answer to the above question here \n",
        "#Magn is the least movie sold"
      ],
      "metadata": {
        "id": "0Wd5OjVKlHhb"
      },
      "execution_count": 16,
      "outputs": []
    },
    {
      "cell_type": "markdown",
      "source": [
        "## THE END"
      ],
      "metadata": {
        "id": "7nCXfKQ9fyts"
      }
    }
  ],
  "metadata": {
    "kernelspec": {
      "display_name": "Python 3 (ipykernel)",
      "language": "python",
      "name": "python3"
    },
    "language_info": {
      "codemirror_mode": {
        "name": "ipython",
        "version": 3
      },
      "file_extension": ".py",
      "mimetype": "text/x-python",
      "name": "python",
      "nbconvert_exporter": "python",
      "pygments_lexer": "ipython3",
      "version": "3.8.12"
    },
    "toc": {
      "base_numbering": 1,
      "nav_menu": {},
      "number_sections": false,
      "sideBar": true,
      "skip_h1_title": true,
      "title_cell": "Table of Contents",
      "title_sidebar": "Table of Contents",
      "toc_cell": false,
      "toc_position": {
        "height": "calc(100% - 180px)",
        "left": "10px",
        "top": "150px",
        "width": "165px"
      },
      "toc_section_display": true,
      "toc_window_display": true
    },
    "varInspector": {
      "cols": {
        "lenName": 16,
        "lenType": 16,
        "lenVar": 40
      },
      "kernels_config": {
        "python": {
          "delete_cmd_postfix": "",
          "delete_cmd_prefix": "del ",
          "library": "var_list.py",
          "varRefreshCmd": "print(var_dic_list())"
        },
        "r": {
          "delete_cmd_postfix": ") ",
          "delete_cmd_prefix": "rm(",
          "library": "var_list.r",
          "varRefreshCmd": "cat(var_dic_list()) "
        }
      },
      "types_to_exclude": [
        "module",
        "function",
        "builtin_function_or_method",
        "instance",
        "_Feature"
      ],
      "window_display": false
    },
    "colab": {
      "name": "Lab2-TanuBhasin",
      "provenance": [],
      "collapsed_sections": []
    }
  },
  "nbformat": 4,
  "nbformat_minor": 0
}