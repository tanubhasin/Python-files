{
  "nbformat": 4,
  "nbformat_minor": 0,
  "metadata": {
    "colab": {
      "name": "Lab1-TanuBhasin.ipynb",
      "provenance": [],
      "collapsed_sections": []
    },
    "kernelspec": {
      "name": "python3",
      "display_name": "Python 3"
    },
    "language_info": {
      "name": "python"
    }
  },
  "cells": [
    {
      "cell_type": "markdown",
      "source": [
        "# Welcome to Lab #1\n",
        "\n",
        "In this exercise, you will be given instructions for each task. Please translate that into code in the following cell.\n",
        "\n",
        "The tasks will be a good way to practice what we have been learning in class. For several tasks, there will be hints provided along the way."
      ],
      "metadata": {
        "id": "QbrbkHOrY4Ls"
      }
    },
    {
      "cell_type": "markdown",
      "source": [
        "## Grocery store\n",
        "\n",
        "In the following tasks, we will be shopping at a grocery store. So we will need some products to buy, their prices, and any discounts."
      ],
      "metadata": {
        "id": "6tGf53tvZi-9"
      }
    },
    {
      "cell_type": "markdown",
      "source": [
        "## Task 1 : create product prices\n",
        "\n",
        "Create three variables to represent the prices of any three fruits that you want to buy. Name the variables as the fruit names  (in singular) and assign them per-unit prices as `float`s.\n",
        "\n",
        "HINT: \n",
        "\n",
        "- Use the assignment operator `=` to set the value of a variable.\n",
        "- Also recall the rules about variable names.\n",
        "- you cannot add $ signs to the values, as that would make it a string, and no longer a float. so only use numbers for values."
      ],
      "metadata": {
        "id": "7sD0k5LTZLls"
      }
    },
    {
      "cell_type": "code",
      "source": [
        "# create the first fruit variable here\n",
        "grapes = float(7.5)\n",
        "\n",
        "# create the second fruit variable here\n",
        "blueberry = float(6.9)\n",
        "\n",
        "# create the third fruit variable here\n",
        "oranges = float(3.8)\n"
      ],
      "metadata": {
        "id": "afMyHBNkaC9Y"
      },
      "execution_count": 3,
      "outputs": []
    },
    {
      "cell_type": "markdown",
      "source": [
        "## Task 2 : create a discount rate\n",
        "\n",
        "Create a variable to store the discount rate for fruits, and set its value to a single number between 2 and 5% (you choose, and express it as a `float`).\n"
      ],
      "metadata": {
        "id": "QFDZaohmaVo3"
      }
    },
    {
      "cell_type": "code",
      "source": [
        "# create a variable to store the discount rate\n",
        "discount = float(0.05)"
      ],
      "metadata": {
        "id": "pXUjp1oDaj58"
      },
      "execution_count": 4,
      "outputs": []
    },
    {
      "cell_type": "markdown",
      "source": [
        "## Task 3: print out the price of a product\n",
        "\n",
        "Print a sentence that provides the price of one unit of the first fruit you selected above.\n",
        "\n",
        "The output should look like: \\\n",
        "`The price of one your_fruit_name_here is = $ your_price`\n",
        "\n",
        "HINT:\n",
        "- whatever you want printed out can be written inside a `print()` command within quotes (\" \") since it is a string. \n",
        "- Then to print out the price, follow the previous string with a ,(comma) followed by the variable name to concatenate the latter to the string.\n",
        "\n",
        "\n"
      ],
      "metadata": {
        "id": "Smj2AXKfb0Dh"
      }
    },
    {
      "cell_type": "code",
      "source": [
        "# write a print statement \n",
        "print(\"The price of one blueberry is = $\",blueberry)\n"
      ],
      "metadata": {
        "id": "oeQ-fxK-cSJl",
        "colab": {
          "base_uri": "https://localhost:8080/"
        },
        "outputId": "7b118c4d-0933-4722-fe8b-6da574621ea2"
      },
      "execution_count": 5,
      "outputs": [
        {
          "output_type": "stream",
          "name": "stdout",
          "text": [
            "The price of one blueberry is = $ 6.9\n"
          ]
        }
      ]
    },
    {
      "cell_type": "markdown",
      "source": [
        "## Task 4 : print price of a product (more complex)\n",
        "\n",
        "Recreate the above output and add some additional text after the price. The output should look like: \\\n",
        "\n",
        "`The price of one your_fruit_name_here is = $ your_price. That is a good deal.`\n",
        "\n",
        "HINT:\n",
        "\n",
        "- to print something as output, we can use `print()`\n",
        "- everything inside print() needs to be a `str`, given within `\" \"` or cast to a str\n",
        "- to add multiple things to the `print()` command use `,` (commas) to concatenate them.\n",
        "- we can add numbers to a `str` without needing to explicitly cast the number to a str. Numbers inside print are implicitly cast to str for us.\n",
        "- To continue to add some str after the numeric price use a `,` followed by another string `\" \"`."
      ],
      "metadata": {
        "id": "klni6uw2cZgi"
      }
    },
    {
      "cell_type": "code",
      "source": [
        "# write a print statement \n",
        "a = \".That is a good deal.\"\n",
        "print(\"The price of one blueberry is = $\",blueberry,a)\n"
      ],
      "metadata": {
        "id": "wfb0XrpZeGh3",
        "colab": {
          "base_uri": "https://localhost:8080/"
        },
        "outputId": "c20c544a-94a6-44f2-e080-9d810159b55b"
      },
      "execution_count": 6,
      "outputs": [
        {
          "output_type": "stream",
          "name": "stdout",
          "text": [
            "The price of one blueberry is = $ 6.9 .That is a good deal.\n"
          ]
        }
      ]
    },
    {
      "cell_type": "markdown",
      "source": [
        "## Task 5 : compute basket total with discount\n",
        "\n",
        "Let's compute the total basket price (with the discount).\n",
        "\n",
        "First decide how may pieces or units of each fruit will you buy. Then compute the total price and apply the discount  to get the answer. Then finally print the answer using a sentence.\n",
        "\n",
        "`The final price of the basket is $ **total_with_discount**.`"
      ],
      "metadata": {
        "id": "dGZuLZVwfzza"
      }
    },
    {
      "cell_type": "code",
      "source": [
        "# first compute the price without the discount and save it in a variable\n",
        "units = 10 #10 units for each fruit\n",
        "\n",
        "# now compute the total quantity\n",
        "qty = units*(blueberry + grapes + oranges)\n",
        "\n",
        "#applying discount on total quantity\n",
        "total = qty - discount*qty\n",
        "\n",
        "# print the answer using a sentence\n",
        "print(\"The final price of the basket is $\",total)"
      ],
      "metadata": {
        "id": "eCSuctvLf8KL",
        "colab": {
          "base_uri": "https://localhost:8080/"
        },
        "outputId": "337fe745-35cd-48d7-87d7-32d61101facd"
      },
      "execution_count": 7,
      "outputs": [
        {
          "output_type": "stream",
          "name": "stdout",
          "text": [
            "The final price of the basket is $ 172.9\n"
          ]
        }
      ]
    },
    {
      "cell_type": "markdown",
      "source": [
        "# TASK 6: Sunday\n",
        "\n",
        "Create a `bool` variable to indicate whether today is a Sunday (call it `sun`). Let's assume its value equals `True`. \n",
        "\n",
        "Create another variable to store the Sunday discount rate. Set it to 10% as a `float`.\n"
      ],
      "metadata": {
        "id": "XBBGTTbwgQ6-"
      }
    },
    {
      "cell_type": "code",
      "source": [
        "# create a variable to store whether it is Sunday\n",
        "sun = bool(True)\n",
        "\n",
        "# create a variable to store the Sunday discount rate \n",
        "disc_rate = float(0.10)\n"
      ],
      "metadata": {
        "id": "OybtSTLugQZT"
      },
      "execution_count": 8,
      "outputs": []
    },
    {
      "cell_type": "markdown",
      "source": [
        "##TASK 7 : Compute total price with discount on Sundays vs regular days\n",
        "\n",
        "Compute the total (discounted) price again. But this time, first check to see whether it is a Sunday, and if so, use the sunday discounted rate created earlier. Else, use the regular discounted rate from above. Print a different output for Sunday vs . regular days.\n",
        "\n",
        "On sundays, print:\n",
        "- Your Sunday total = \\$sunday_totaldisc_price \\\n",
        "\n",
        "On other days, print:\n",
        "- Your regular total = \\$regular_totaldisc_price\n",
        "\n",
        "HINT: \n",
        "- Write an if-else statement to check whether today is Sunday or not (its value is set to True) and \n",
        "- compute the total discounted price by applying the Sunday rate or the non-Sunday rate, depending on whether the if-condition is True or False."
      ],
      "metadata": {
        "id": "MXqYXoxqkmhh"
      }
    },
    {
      "cell_type": "code",
      "source": [
        "# write an if-else statement\n",
        "\n",
        "if sun == True:\n",
        "  total = qty - disc_rate*qty #applying sunday discount rate of 10\n",
        "  print(\"Your Sunday total is $\",total)\n",
        "else:\n",
        " total = qty - discount*qty #applying non-sunday discount rate of 5\n",
        " print(\"Your regular total is $\",total)\n"
      ],
      "metadata": {
        "id": "v7AKEueskrbP",
        "colab": {
          "base_uri": "https://localhost:8080/"
        },
        "outputId": "07fd99fa-8c8b-456b-ee06-871a3c6d566c"
      },
      "execution_count": 9,
      "outputs": [
        {
          "output_type": "stream",
          "name": "stdout",
          "text": [
            "Your regular total is $ 172.9\n"
          ]
        }
      ]
    },
    {
      "cell_type": "markdown",
      "source": [
        "## TASK 8 : using the math module\n",
        "\n",
        "Sometimes we need to use other packages (other than standard Python) in order to use some additional functions.\n",
        "\n",
        "In this task, you are asked to compute the floor of a number.\n",
        "\n",
        "There is a function for this - it is called floor, but it is found in the `math` module.\n",
        "\n",
        "In order to use other non-standard modules, we have to first import them. There are multiple ways to import modules.\n",
        "\n",
        "1. Write:\\\n",
        "`import math`\n",
        "\n",
        "Now in your code you can call any function within math using the `.` operator. So to use floor() function, we have to call it as `math.floor`.\n",
        "\n",
        "OR\n",
        "\n",
        "2. Write: \\\n",
        "`import math as m`\n",
        "\n",
        "here we are giving the math module as short name so we can write `m.floor()` instead of math.floor().\n",
        "\n",
        "\n",
        "Create a new variable num and set it equal to 15.5. Compute and print its floor value using the floor() function.\n",
        "\n",
        "HINT:\n",
        "- first import the module using one of the import statements\n",
        "- then write the appropriate command to call the `floor()` function and give it the `num` variable as an input (argument)."
      ],
      "metadata": {
        "id": "9T-7-tVytG6Y"
      }
    },
    {
      "cell_type": "code",
      "source": [
        "# import the math module\n",
        "import math as m\n",
        "\n",
        "# store the number in a variable\n",
        "num = 15.5\n",
        "\n",
        "# call the floor function from the math module to print just the floor of the number\n",
        "m.floor(num)\n"
      ],
      "metadata": {
        "id": "UJl4h7SuuIE7",
        "colab": {
          "base_uri": "https://localhost:8080/"
        },
        "outputId": "f9297f73-9c6f-4f6e-fa4b-571ff991adca"
      },
      "execution_count": 10,
      "outputs": [
        {
          "output_type": "execute_result",
          "data": {
            "text/plain": [
              "15"
            ]
          },
          "metadata": {},
          "execution_count": 10
        }
      ]
    },
    {
      "cell_type": "markdown",
      "source": [
        "## TASK 9 : Lower case name\n",
        "\n",
        "Save your name in a variable in all upper case. Print out just your name in lower case.\n",
        "\n",
        "\n"
      ],
      "metadata": {
        "id": "ZJyxNPqrxOIM"
      }
    },
    {
      "cell_type": "code",
      "source": [
        "# store your full name in upper case a variable\n",
        "name = \"TANU BHASIN\"\n",
        "\n",
        "# print just your name in all lower case.\n",
        "print(name.lower())"
      ],
      "metadata": {
        "id": "n3FbZnc6xa5J",
        "colab": {
          "base_uri": "https://localhost:8080/"
        },
        "outputId": "ecfce861-7d09-420d-d889-27d7cb50c3c5"
      },
      "execution_count": 11,
      "outputs": [
        {
          "output_type": "stream",
          "name": "stdout",
          "text": [
            "tanu bhasin\n"
          ]
        }
      ]
    },
    {
      "cell_type": "markdown",
      "source": [
        "## TASK 10: Split a string\n",
        "\n",
        "When manipulating strings, sometimes we may want to split a string into tokens (words). There is a method in str called `split()` that does exactly that.\n",
        "\n",
        "Look up its documentation - identify its parameters, their default values, and return type.\n",
        "\n",
        "Now use the string method to split your name into words.\n",
        "\n",
        "Note that the output returned by `str.split()` is no longer a string. It is a  ___________. Write a command to determine the data type of the output returned by the split method of str.\n",
        "\n",
        "HINT: \n",
        "- this is a Python function that we learned about to determine data type of a variable or value."
      ],
      "metadata": {
        "id": "CFUknRSbyZRg"
      }
    },
    {
      "cell_type": "code",
      "source": [
        "# write code to split your name, save the output in a new variable, and print it.\n",
        "name1 = \"TANU BHASIN\"\n",
        "split_name1 = name1.split() #string.split(separator, maxsplit)\n",
        "print(split_name1)\n",
        "\n",
        "# write code to determine the type of the output returned by str.split()\n",
        "typeL = type(split_name1) #type is the built in function\n",
        "print(\"The data type is\",typeL)"
      ],
      "metadata": {
        "id": "rUHhoQKeyCjp",
        "colab": {
          "base_uri": "https://localhost:8080/"
        },
        "outputId": "f22cde9d-e75c-4256-e1aa-0c4e6d99e511"
      },
      "execution_count": 13,
      "outputs": [
        {
          "output_type": "stream",
          "name": "stdout",
          "text": [
            "['TANU', 'BHASIN']\n",
            "The data type is <class 'list'>\n"
          ]
        }
      ]
    },
    {
      "cell_type": "markdown",
      "source": [
        "# THE END"
      ],
      "metadata": {
        "id": "wgiHlaQYq-_b"
      }
    }
  ]
}